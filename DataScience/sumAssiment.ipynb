{
 "cells": [
  {
   "cell_type": "code",
   "execution_count": 2,
   "metadata": {},
   "outputs": [
    {
     "name": "stdout",
     "output_type": "stream",
     "text": [
      "16\n",
      "5\n"
     ]
    }
   ],
   "source": [
    "def sum_excluding_high_low(arr):\n",
    "    if len(arr) < 3:\n",
    "        raise ValueError(\"Array must have at least three elements.\")\n",
    "    \n",
    "    highest = max(arr)\n",
    "    lowest = min(arr)\n",
    "\n",
    "    # Create a new list excluding the highest and lowest values\n",
    "    filtered_list = [x for x in arr if x != highest and x != lowest]\n",
    "    \n",
    "    # If the filtered list is empty (e.g., all elements were the same), return 0\n",
    "    return sum(filtered_list) if filtered_list else 0\n",
    "\n",
    "# Example usage\n",
    "print(sum_excluding_high_low([6, 2, 1, 8, 10]))  # Output: 16\n",
    "print(sum_excluding_high_low([1, 1, 11, 2, 3]))  # Output: 6\n"
   ]
  }
 ],
 "metadata": {
  "kernelspec": {
   "display_name": "Python 3",
   "language": "python",
   "name": "python3"
  },
  "language_info": {
   "codemirror_mode": {
    "name": "ipython",
    "version": 3
   },
   "file_extension": ".py",
   "mimetype": "text/x-python",
   "name": "python",
   "nbconvert_exporter": "python",
   "pygments_lexer": "ipython3",
   "version": "3.12.7"
  }
 },
 "nbformat": 4,
 "nbformat_minor": 2
}
