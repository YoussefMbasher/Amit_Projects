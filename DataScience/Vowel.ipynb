{
 "cells": [
  {
   "cell_type": "code",
   "execution_count": 1,
   "metadata": {},
   "outputs": [
    {
     "name": "stdout",
     "output_type": "stream",
     "text": [
      "['a', 98, 99, 'e']\n",
      "[100, 'i', 'o', 120]\n"
     ]
    }
   ],
   "source": [
    "def replace_vowels(arr):\n",
    "    # Dictionary to map ASCII codes to vowels\n",
    "    vowel_map = {\n",
    "        97: 'a',\n",
    "        101: 'e',\n",
    "        105: 'i',\n",
    "        111: 'o',\n",
    "        117: 'u'\n",
    "    }\n",
    " \n",
    "    result = [vowel_map.get(num, num) for num in arr]\n",
    "    \n",
    "    return result\n",
    "\n",
    "# Example usage\n",
    "print(replace_vowels([97, 98, 99, 101])) \n",
    "print(replace_vowels([100, 105, 111, 120]))  \n"
   ]
  }
 ],
 "metadata": {
  "kernelspec": {
   "display_name": "Python 3",
   "language": "python",
   "name": "python3"
  },
  "language_info": {
   "codemirror_mode": {
    "name": "ipython",
    "version": 3
   },
   "file_extension": ".py",
   "mimetype": "text/x-python",
   "name": "python",
   "nbconvert_exporter": "python",
   "pygments_lexer": "ipython3",
   "version": "3.12.7"
  }
 },
 "nbformat": 4,
 "nbformat_minor": 2
}
