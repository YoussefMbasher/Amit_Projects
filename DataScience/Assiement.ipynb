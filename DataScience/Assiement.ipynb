{
 "cells": [
  {
   "cell_type": "code",
   "execution_count": 6,
   "metadata": {},
   "outputs": [
    {
     "name": "stdout",
     "output_type": "stream",
     "text": [
      "1 on the border and 0 inside in the array\n",
      "[[1. 1. 1. 1. 1.]\n",
      " [1. 0. 0. 0. 1.]\n",
      " [1. 0. 0. 0. 1.]\n",
      " [1. 0. 0. 0. 1.]\n",
      " [1. 1. 1. 1. 1.]]\n"
     ]
    }
   ],
   "source": [
    "\n",
    "import numpy as np\n",
    "\n",
    "\n",
    "x = np.ones((5, 5))\n",
    "\n",
    "print(\"1 on the border and 0 inside in the array\")\n",
    "x[1:-1, 1:-1] = 0\n",
    "\n",
    "\n",
    "print(x)\n"
   ]
  },
  {
   "cell_type": "code",
   "execution_count": 7,
   "metadata": {},
   "outputs": [
    {
     "name": "stdout",
     "output_type": "stream",
     "text": [
      "[[1 3 3 3 2]\n",
      " [3 1 3 2 3]\n",
      " [3 3 2 3 3]\n",
      " [3 2 3 1 3]\n",
      " [2 3 3 3 1]]\n"
     ]
    }
   ],
   "source": [
    "import numpy as np\n",
    "\n",
    "# Create a 5x5 matrix filled with 3s\n",
    "matrix = np.full((5, 5), 3)\n",
    "\n",
    "# Set the first diagonal (1s)\n",
    "np.fill_diagonal(matrix, 1)\n",
    "\n",
    "# Set the second diagonal (2s)\n",
    "np.fill_diagonal(np.fliplr(matrix), 2)\n",
    "\n",
    "print(matrix)\n"
   ]
  },
  {
   "cell_type": "code",
   "execution_count": null,
   "metadata": {},
   "outputs": [],
   "source": [
    "#task 4"
   ]
  },
  {
   "cell_type": "code",
   "execution_count": 8,
   "metadata": {},
   "outputs": [
    {
     "name": "stdout",
     "output_type": "stream",
     "text": [
      "Matrix 1:\n",
      "[[1 2 3]\n",
      " [4 5 6]]\n",
      "\n",
      "Matrix 2:\n",
      "[[ 7  8  9]\n",
      " [10 11 12]]\n",
      "\n",
      "Stacked Matrix:\n",
      "[[ 1  2  3]\n",
      " [ 4  5  6]\n",
      " [ 7  8  9]\n",
      " [10 11 12]]\n"
     ]
    }
   ],
   "source": [
    "import numpy as np\n",
    "\n",
    "# Create two matrices\n",
    "matrix1 = np.array([[1, 2, 3],\n",
    "                     [4, 5, 6]])\n",
    "\n",
    "matrix2 = np.array([[7, 8, 9],\n",
    "                     [10, 11, 12]])\n",
    "\n",
    "# Stack the matrices vertically\n",
    "stacked_matrix = np.vstack((matrix1, matrix2))\n",
    "\n",
    "print(\"Matrix 1:\")\n",
    "print(matrix1)\n",
    "print(\"\\nMatrix 2:\")\n",
    "print(matrix2)\n",
    "print(\"\\nStacked Matrix:\")\n",
    "print(stacked_matrix)\n"
   ]
  }
 ],
 "metadata": {
  "kernelspec": {
   "display_name": "env",
   "language": "python",
   "name": "python3"
  },
  "language_info": {
   "codemirror_mode": {
    "name": "ipython",
    "version": 3
   },
   "file_extension": ".py",
   "mimetype": "text/x-python",
   "name": "python",
   "nbconvert_exporter": "python",
   "pygments_lexer": "ipython3",
   "version": "3.12.7"
  }
 },
 "nbformat": 4,
 "nbformat_minor": 2
}
