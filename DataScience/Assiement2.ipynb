{
 "cells": [
  {
   "cell_type": "code",
   "execution_count": 2,
   "metadata": {},
   "outputs": [
    {
     "name": "stdout",
     "output_type": "stream",
     "text": [
      "Factorial of 5: 120\n",
      "Is 7 prime? True\n",
      "Sum of digits in 12345: 15\n",
      "2 raised to the power of 3: 8\n"
     ]
    }
   ],
   "source": [
    "class EssentialOperations:\n",
    "    def __init__(self):\n",
    "        pass  # No specific attributes to initialize\n",
    "\n",
    "    def factorial(self, n):\n",
    "        \"\"\"Calculate the factorial of a given number.\"\"\"\n",
    "        if n < 0:\n",
    "            raise ValueError(\"Factorial is not defined for negative numbers.\")\n",
    "        elif n == 0 or n == 1:\n",
    "            return 1\n",
    "        else:\n",
    "            result = 1\n",
    "            for i in range(2, n + 1):\n",
    "                result *= i\n",
    "            return result\n",
    "\n",
    "    def is_prime(self, n):\n",
    "        \"\"\"Check whether a given number is prime.\"\"\"\n",
    "        if n <= 1:\n",
    "            return False\n",
    "        for i in range(2, int(n ** 0.5) + 1):\n",
    "            if n % i == 0:\n",
    "                return False\n",
    "        return True\n",
    "\n",
    "    def sum_of_digits(self, n):\n",
    "        \"\"\"Calculate the sum of the digits of a number.\"\"\"\n",
    "        return sum(int(digit) for digit in str(abs(n)))\n",
    "\n",
    "    def power(self, base, exponent):\n",
    "        \"\"\"Calculate the result of raising a base to a given exponent.\"\"\"\n",
    "        return base ** exponent\n",
    "\n",
    "\n",
    "ops = EssentialOperations()\n",
    "\n",
    "# Calculate factorial\n",
    "print(\"Factorial of 5:\", ops.factorial(5))\n",
    "\n",
    "# Check if a number is prime\n",
    "print(\"Is 7 prime?\", ops.is_prime(7))\n",
    "\n",
    "# Sum of digits\n",
    "print(\"Sum of digits in 12345:\", ops.sum_of_digits(12345))\n",
    "\n",
    "# Power calculation\n",
    "print(\"2 raised to the power of 3:\", ops.power(2, 3))"
   ]
  },
  {
   "cell_type": "code",
   "execution_count": 3,
   "metadata": {},
   "outputs": [
    {
     "name": "stdout",
     "output_type": "stream",
     "text": [
      "File Content:\n",
      " 1-hello world\n",
      "Word Frequencies: {'1-hello': 1, 'world': 1}\n"
     ]
    }
   ],
   "source": [
    "class FileHandler:\n",
    "    def __init__(self, file_path=None):\n",
    "        self.file_path = file_path\n",
    "\n",
    "    def read_file(self):\n",
    "        \"\"\"Read the content of a text file.\"\"\"\n",
    "        if not self.file_path:\n",
    "            raise ValueError(\"File path not set.\")\n",
    "        try:\n",
    "            with open(self.file_path, 'r') as file:\n",
    "                return file.read()\n",
    "        except FileNotFoundError:\n",
    "            raise FileNotFoundError(\"The specified file was not found.\")\n",
    "        except Exception as e:\n",
    "            raise Exception(f\"An error occurred while reading the file: {e}\")\n",
    "\n",
    "    def word_frequency(self):\n",
    "        \"\"\"Count the frequency of each word in the text file.\"\"\"\n",
    "        content = self.read_file()\n",
    "        words = content.split()\n",
    "        frequency = {}\n",
    "        for word in words:\n",
    "            word = word.lower()  # Normalize to lowercase\n",
    "            frequency[word] = frequency.get(word, 0) + 1\n",
    "        return frequency\n",
    "\n",
    "file_handler = FileHandler('example.txt')\n",
    "\n",
    "# Read file content\n",
    "try:\n",
    "    content = file_handler.read_file()\n",
    "    print(\"File Content:\\n\", content)\n",
    "    \n",
    "    # Get word frequency\n",
    "    frequencies = file_handler.word_frequency()\n",
    "    print(\"Word Frequencies:\", frequencies)\n",
    "except Exception as e:\n",
    "    print(e)"
   ]
  }
 ],
 "metadata": {
  "kernelspec": {
   "display_name": "env",
   "language": "python",
   "name": "python3"
  },
  "language_info": {
   "codemirror_mode": {
    "name": "ipython",
    "version": 3
   },
   "file_extension": ".py",
   "mimetype": "text/x-python",
   "name": "python",
   "nbconvert_exporter": "python",
   "pygments_lexer": "ipython3",
   "version": "3.12.7"
  }
 },
 "nbformat": 4,
 "nbformat_minor": 2
}
