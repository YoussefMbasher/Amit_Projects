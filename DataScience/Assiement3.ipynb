{
 "cells": [
  {
   "cell_type": "code",
   "execution_count": 9,
   "metadata": {},
   "outputs": [
    {
     "name": "stdout",
     "output_type": "stream",
     "text": [
      "Reda playing banjo\n",
      "None\n"
     ]
    }
   ],
   "source": [
    "def person(name):\n",
    "    if name.lower()[0]==\"r\":\n",
    "        print(name+\" playing banjo\")\n",
    "    else:\n",
    "         print(name+\" do not play banjo)\")\n",
    "        \n",
    "        \n",
    "        \n",
    "print(person(\"Reda\"))"
   ]
  }
 ],
 "metadata": {
  "kernelspec": {
   "display_name": "env",
   "language": "python",
   "name": "python3"
  },
  "language_info": {
   "codemirror_mode": {
    "name": "ipython",
    "version": 3
   },
   "file_extension": ".py",
   "mimetype": "text/x-python",
   "name": "python",
   "nbconvert_exporter": "python",
   "pygments_lexer": "ipython3",
   "version": "3.12.7"
  }
 },
 "nbformat": 4,
 "nbformat_minor": 2
}
